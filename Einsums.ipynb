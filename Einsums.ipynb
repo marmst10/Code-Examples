{
 "cells": [
  {
   "cell_type": "markdown",
   "metadata": {},
   "source": [
    "STAT 7900 – Python for Data Science<br>\n",
    "Homework 5<br>\n",
    "Connor Armstrong<br>\n",
    "<br>\n",
    "Due midnight Sunday, March 28<br>\n",
    "<br>\n",
    "1.\t(14 pts) using einsum and the matricies below: <br>"
   ]
  },
  {
   "cell_type": "code",
   "execution_count": 7,
   "metadata": {},
   "outputs": [
    {
     "name": "stdout",
     "output_type": "stream",
     "text": [
      "A\n",
      "[[ 4  2]\n",
      " [-3  3]\n",
      " [-3 -5]\n",
      " [ 1 -4]\n",
      " [ 1  4]]\n",
      "\n",
      "B\n",
      "[[-5  0]\n",
      " [ 1  5]\n",
      " [ 0  1]\n",
      " [ 1 -2]\n",
      " [-1 -1]]\n",
      "\n",
      "C\n",
      "[[-3 -2 -1]\n",
      " [ 5  2  1]\n",
      " [-4  1  0]\n",
      " [ 1  1 -3]\n",
      " [ 0  2 -5]]\n"
     ]
    }
   ],
   "source": [
    "import numpy as np\n",
    "A = np.array((4,2,-3,3,-3,-5,1,-4,1,4)).reshape(5,2)\n",
    "B = np.array((-5,0,1,5,0,1,1,-2,-1,-1)).reshape(5,2)\n",
    "C = np.array((-3,-2,-1,5,2,1,-4,1,0,1,1,-3,0,2,-5)).reshape(5,3)\n",
    "\n",
    "print(\"A\")\n",
    "print(A)\n",
    "print()\n",
    "print(\"B\")\n",
    "print(B)\n",
    "print()\n",
    "print(\"C\")\n",
    "print(C)"
   ]
  },
  {
   "cell_type": "markdown",
   "metadata": {},
   "source": [
    "<br>\t\n",
    "1.a.  *Calculate the size of A* <br>"
   ]
  },
  {
   "cell_type": "code",
   "execution_count": 9,
   "metadata": {},
   "outputs": [
    {
     "name": "stdout",
     "output_type": "stream",
     "text": [
      "(5, 2)\n"
     ]
    }
   ],
   "source": [
    "print(A.shape)"
   ]
  },
  {
   "cell_type": "markdown",
   "metadata": {},
   "source": [
    "<br>\n",
    "1.b.\tCalculate the simple position by position multiplication of A and B<br>\n"
   ]
  },
  {
   "cell_type": "code",
   "execution_count": 12,
   "metadata": {},
   "outputs": [
    {
     "data": {
      "text/plain": [
       "array([[-20,   0],\n",
       "       [ -3,  15],\n",
       "       [  0,  -5],\n",
       "       [  1,   8],\n",
       "       [ -1,  -4]])"
      ]
     },
     "execution_count": 12,
     "metadata": {},
     "output_type": "execute_result"
    }
   ],
   "source": [
    "A*B"
   ]
  },
  {
   "cell_type": "markdown",
   "metadata": {},
   "source": [
    "<br>\n",
    "1.c.\tCalculate the inner product of A and B (to result in a scaler)<br>\n"
   ]
  },
  {
   "cell_type": "code",
   "execution_count": 13,
   "metadata": {},
   "outputs": [
    {
     "data": {
      "text/plain": [
       "-9"
      ]
     },
     "execution_count": 13,
     "metadata": {},
     "output_type": "execute_result"
    }
   ],
   "source": [
    "np.einsum('ij, ij', A, B)"
   ]
  },
  {
   "cell_type": "markdown",
   "metadata": {},
   "source": [
    "<br>\n",
    "1.d.\tCalculate the inner product of A and B to result in a length 5 array<br>\n"
   ]
  },
  {
   "cell_type": "code",
   "execution_count": 14,
   "metadata": {},
   "outputs": [
    {
     "data": {
      "text/plain": [
       "array([-20,  12,  -5,   9,  -5])"
      ]
     },
     "execution_count": 14,
     "metadata": {},
     "output_type": "execute_result"
    }
   ],
   "source": [
    "np.einsum('ij, ij -> i', A, B)"
   ]
  },
  {
   "cell_type": "markdown",
   "metadata": {},
   "source": [
    "<br>\n",
    "1.e.\tCalculate the matrix multiplication of A and C to result in a 3 x 2 matrix<br>\n"
   ]
  },
  {
   "cell_type": "code",
   "execution_count": 19,
   "metadata": {},
   "outputs": [
    {
     "data": {
      "text/plain": [
       "array([[-14,  25],\n",
       "       [-14,   1],\n",
       "       [-15,  -7]])"
      ]
     },
     "execution_count": 19,
     "metadata": {},
     "output_type": "execute_result"
    }
   ],
   "source": [
    "np.einsum('ij, ik -> kj', A, C)"
   ]
  },
  {
   "cell_type": "markdown",
   "metadata": {},
   "source": [
    "<br>\n",
    "1.f.\tHow does this differ from creating a resulting 3 x 2 matrix that is the inner product along the row dimension and the outer product of the column dimensions?<br>\n"
   ]
  },
  {
   "cell_type": "code",
   "execution_count": 21,
   "metadata": {},
   "outputs": [
    {
     "data": {
      "text/plain": [
       "array([[-14, -14, -15],\n",
       "       [ 25,   1,  -7]])"
      ]
     },
     "execution_count": 21,
     "metadata": {},
     "output_type": "execute_result"
    }
   ],
   "source": [
    "np.einsum('ij, ik', A, C)#inner product of A and C"
   ]
  },
  {
   "cell_type": "markdown",
   "metadata": {},
   "source": [
    "The resulting matrices from 1.e and 1.f are the transpose of one another.<br>\n",
    "<br>"
   ]
  },
  {
   "cell_type": "markdown",
   "metadata": {},
   "source": [
    "<br>\n",
    "1.g.\tCalculate the full outer product of A and C resulting in a 5 x 2 x 3 matrix<br>"
   ]
  },
  {
   "cell_type": "code",
   "execution_count": 22,
   "metadata": {},
   "outputs": [
    {
     "data": {
      "text/plain": [
       "array([[[-12,  -8,  -4],\n",
       "        [ -6,  -4,  -2]],\n",
       "\n",
       "       [[-15,  -6,  -3],\n",
       "        [ 15,   6,   3]],\n",
       "\n",
       "       [[ 12,  -3,   0],\n",
       "        [ 20,  -5,   0]],\n",
       "\n",
       "       [[  1,   1,  -3],\n",
       "        [ -4,  -4,  12]],\n",
       "\n",
       "       [[  0,   2,  -5],\n",
       "        [  0,   8, -20]]])"
      ]
     },
     "execution_count": 22,
     "metadata": {},
     "output_type": "execute_result"
    }
   ],
   "source": [
    "np.einsum('ij, ik -> ijk', A, C)"
   ]
  },
  {
   "cell_type": "markdown",
   "metadata": {},
   "source": [
    "<br>\n",
    "2.\t(26 pts) Find the web page that contains the information on the sci-kit learn multi-layer perceptron classifier library: <br><br>\n",
    "I think this is it<br>\n",
    "https://scikit-learn.org/stable/modules/generated/sklearn.neural_network.MLPClassifier.html\n",
    "\n"
   ]
  },
  {
   "cell_type": "markdown",
   "metadata": {},
   "source": [
    "<br>\n",
    "2.a.\tIn which larger library is this library found (not “sklearn”, but the sub-library between the classifier and the overall sklearn library). <br><br>\n",
    "sklearn.neural_network\n"
   ]
  },
  {
   "cell_type": "markdown",
   "metadata": {},
   "source": [
    "<br>\n",
    "2.b.\tWhat are the default settings for:<br><br>\n",
    "\n",
    "&emsp;&emsp;i.\t learning rate<br>\n",
    "&emsp;&emsp;&emsp;&emsp;0.001<br><br>\n",
    "\n",
    "&emsp;&emsp;ii.\tBatch size<br>\n",
    "&emsp;&emsp;&emsp;&emsp;batch_size=min(200, n_samples)<br><br>\n",
    "\n",
    "&emsp;&emsp;iii.\tHidden layer size<br>\n",
    "&emsp;&emsp;&emsp;&emsp;100<br><br>\n",
    "\n",
    "&emsp;&emsp;iv.\tSolver<br>\n",
    "&emsp;&emsp;&emsp;&emsp;adam, which refers to a stochastic gradient-based optimizer proposed by Kingma, Diederik, and Jimmy Ba<br><br>\n",
    "\n",
    "&emsp;&emsp;v.\tActivation function<br>\n",
    "&emsp;&emsp;&emsp;&emsp;relu, the rectified linear unit function, returns f(x) = max(0, x)<br>\n"
   ]
  },
  {
   "cell_type": "markdown",
   "metadata": {},
   "source": [
    "<br>\n",
    "2.c.\t(4 pts) What is the implication of the default random state, in terms of the ability for someone else to exactly reproduce your work?<br><br>\n",
    "With no default random state, and without specifying a seed, the algorithm will use a random state which is unlikely to be replicated, as it will likely derive the random state from the system clock.\n"
   ]
  },
  {
   "cell_type": "markdown",
   "metadata": {},
   "source": [
    "<br>\n",
    "2.d.\tIn your own words (do not copy and paste from the site or you’ll get 0 credit), explain the following methods and when/how would you use them: <br><br>\n",
    "\n",
    "&emsp;&emsp;i.\tfit<br>\n",
    "&emsp;&emsp;&emsp;&emsp;This method takes an input matrix with dimensions (number of observations by number of variables) and an array with dimensions (number of observations by number of outputs) and returns a trained Multi-Layer Perceptron (MLP) Model. As a method, fit(X, y) is used as a modifier to the MLPClassifier function of interest. For example, the method is used in the example code in the following context:<br><br>\n",
    "clf = MLPClassifier(random_state=1, max_iter=300).fit(X_train, y_train)<br><br>\n",
    "\n",
    "&emsp;&emsp;ii.\tget_parms<br>\n",
    "&emsp;&emsp;&emsp;&emsp;This method is used to specify whether to output parameter estimates for the specified estimator(s) using a TRUE/FALSE input.<br><br>\n",
    "\n",
    "&emsp;&emsp;iii.\tpredict<br>\n",
    "&emsp;&emsp;&emsp;&emsp;This method requires an input matrix of dimensions (number of samples by number of variables) and returns the predicted classes. This is useful for model evaluation purposes as you can input a test array and compare it the predicted output to the true output.<br><br>\n",
    "\n",
    "&emsp;&emsp;iv.\tpredict_proba<br>\n",
    "&emsp;&emsp;&emsp;&emsp;similar to predict but returns a probability instead of a prediction.<br><br>\n",
    "\n",
    "&emsp;&emsp;v.\tscore<br>\n",
    "&emsp;&emsp;&emsp;&emsp;Takes test data, target array, and sample weights as input and returns a mean score as output. This is a harsh scoring since it requires all attributes to be predicted successfully to be given credit toward the score. This is useful for model optimization and evaluation.<br><br>"
   ]
  }
 ],
 "metadata": {
  "kernelspec": {
   "display_name": "Python 3",
   "language": "python",
   "name": "python3"
  },
  "language_info": {
   "codemirror_mode": {
    "name": "ipython",
    "version": 3
   },
   "file_extension": ".py",
   "mimetype": "text/x-python",
   "name": "python",
   "nbconvert_exporter": "python",
   "pygments_lexer": "ipython3",
   "version": "3.8.5"
  }
 },
 "nbformat": 4,
 "nbformat_minor": 4
}
