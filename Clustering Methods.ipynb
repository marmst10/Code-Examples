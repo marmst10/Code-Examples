{
 "cells": [
  {
   "cell_type": "code",
   "execution_count": 1,
   "metadata": {},
   "outputs": [],
   "source": [
    "import numpy as np\n",
    "import pandas as pd\n",
    "\n",
    "data = pd.read_csv('C:/Users/conno/OneDrive/Desktop/STAT 8230 - Applied Multivariate Data Analysis/Homework/Homework 4/24psychtests.csv')"
   ]
  },
  {
   "cell_type": "code",
   "execution_count": null,
   "metadata": {},
   "outputs": [],
   "source": [
    "#2. (Clustering individuals: 24 Psy. Tests) Use the raw data (tests 1-24) \n",
    "#and the combined 301 students from both schools to find clusters of \n",
    "#students. Ignoring the fact that the data are actually labeled by the \n",
    "#name of the school they attend, cluster the 301 individuals into two \n",
    "#groups. You are asked\n",
    "#  to decide whether you want to standardize the data,\n",
    "#  to choose a good dissimilarity measure, and\n",
    "#  to use a clustering algorithm among those we have discussed during \n",
    "#    lectures.\n",
    "#Discuss your result.\n",
    "#(Optional: Are there really two clusters?)"
   ]
  },
  {
   "cell_type": "code",
   "execution_count": 8,
   "metadata": {},
   "outputs": [],
   "source": [
    "data2 = data.drop(columns=[\"Case\",\"Sex\",\"Age\",\"Grp\",\"V25\",\"V26\",\"group\"])"
   ]
  },
  {
   "cell_type": "code",
   "execution_count": 11,
   "metadata": {},
   "outputs": [],
   "source": [
    "from scipy import ndimage \n",
    "from scipy.cluster import hierarchy \n",
    "from scipy.spatial import distance_matrix \n",
    "from matplotlib import pyplot as plt \n",
    "from sklearn import manifold, datasets \n",
    "from sklearn.cluster import AgglomerativeClustering \n",
    "from sklearn.datasets.samples_generator import make_blobs \n",
    "%matplotlib inline"
   ]
  },
  {
   "cell_type": "code",
   "execution_count": 12,
   "metadata": {},
   "outputs": [
    {
     "data": {
      "text/plain": [
       "array([[0.34042553, 0.78571429, 0.31578947, 0.02941176, 0.42105263,\n",
       "        0.36842105, 0.79166667, 0.36363636, 0.19047619, 0.34042553,\n",
       "        0.55555556, 0.38848921, 0.55364807, 0.63636364, 0.40909091,\n",
       "        0.62295082, 0.23076923, 0.45      , 0.76470588, 0.2       ,\n",
       "        0.56521739, 0.62790698, 0.1025641 , 0.54166667],\n",
       "       [0.59574468, 0.42857143, 0.31578947, 0.44117647, 0.34210526,\n",
       "        0.26315789, 0.33333333, 0.36363636, 0.19047619, 0.40425532,\n",
       "        0.65656566, 0.46043165, 0.79399142, 0.81818182, 0.38636364,\n",
       "        0.68852459, 0.46153846, 0.6       , 0.41176471, 0.14285714,\n",
       "        0.52173913, 0.3255814 , 0.        , 0.04166667],\n",
       "       [0.4893617 , 0.42857143, 0.31578947, 0.38235294, 0.15789474,\n",
       "        0.15789474, 0.125     , 0.06060606, 0.04761905, 0.31914894,\n",
       "        0.3030303 , 0.12230216, 0.25321888, 0.63636364, 0.38636364,\n",
       "        0.60655738, 0.03846154, 0.25      , 0.17647059, 0.14285714,\n",
       "        0.34782609, 0.25581395, 0.15384615, 0.375     ],\n",
       "       [0.59574468, 0.78571429, 0.52631579, 0.64705882, 0.44736842,\n",
       "        0.42105263, 0.58333333, 0.33333333, 0.38095238, 0.27659574,\n",
       "        0.46464646, 0.32374101, 0.32188841, 0.77922078, 0.27272727,\n",
       "        0.54098361, 0.19230769, 0.15      , 0.41176471, 0.15238095,\n",
       "        0.39130435, 0.34883721, 0.12820513, 0.33333333],\n",
       "       [0.53191489, 0.35714286, 0.31578947, 0.14705882, 0.38157895,\n",
       "        0.42105263, 0.5       , 0.45454545, 0.4047619 , 0.39007092,\n",
       "        0.44444444, 0.4676259 , 0.48497854, 0.85714286, 0.70454545,\n",
       "        0.75409836, 0.57692308, 0.7       , 0.64705882, 0.44761905,\n",
       "        0.60869565, 0.27906977, 0.07692308, 0.375     ]])"
      ]
     },
     "execution_count": 12,
     "metadata": {},
     "output_type": "execute_result"
    }
   ],
   "source": [
    "#  to decide whether you want to standardize the data,\n",
    "# yes, the ranges of the variables are very different so standardization would be helpful.\n",
    "from sklearn.preprocessing import MinMaxScaler\n",
    "x = data2.values #returns a numpy array\n",
    "min_max_scaler = MinMaxScaler()\n",
    "feature_mtx = min_max_scaler.fit_transform(x)\n",
    "feature_mtx [0:5]"
   ]
  },
  {
   "cell_type": "code",
   "execution_count": 14,
   "metadata": {},
   "outputs": [],
   "source": [
    "import scipy\n",
    "leng = feature_mtx.shape[0]\n",
    "D = np.zeros([leng,leng])\n",
    "for i in range(leng):\n",
    "    for j in range(leng):\n",
    "        D[i,j] = scipy.spatial.distance.euclidean(feature_mtx[i], feature_mtx[j])"
   ]
  },
  {
   "cell_type": "code",
   "execution_count": 15,
   "metadata": {},
   "outputs": [
    {
     "name": "stderr",
     "output_type": "stream",
     "text": [
      "<ipython-input-15-8655000d21de>:3: ClusterWarning: scipy.cluster: The symmetric non-negative hollow observation matrix looks suspiciously like an uncondensed distance matrix\n",
      "  Z = hierarchy.linkage(D, 'complete')\n"
     ]
    }
   ],
   "source": [
    "import pylab\n",
    "import scipy.cluster.hierarchy\n",
    "Z = hierarchy.linkage(D, 'complete')"
   ]
  },
  {
   "cell_type": "code",
   "execution_count": 16,
   "metadata": {
    "scrolled": true
   },
   "outputs": [
    {
     "data": {
      "text/plain": [
       "array([ 84,  86,   6, 104, 122,  86,  10, 117,  98, 108, 109,  57,  48,\n",
       "       108,  27, 106,  86, 112,  19,  57,  75,  30,  94, 107, 108,  48,\n",
       "        41, 120,  40, 106, 107,   7, 104,  92,   6, 105,  56, 118,  32,\n",
       "        70,  47, 105,   8, 113,  63,  71,  23,  86, 114,  82,  75, 117,\n",
       "         4,  98,  48, 118, 120,  67, 111,   5,  25,  57, 110,  50,  71,\n",
       "        32,  42, 118, 121, 122,  87,  74, 114,  45, 113, 111,  64,   3,\n",
       "        29,  79,  80,  24,  79, 113,   9,  37,  47,  55,  73,  91,  78,\n",
       "        43, 111, 121,  98,  45,  85,  39,  86,  55,  43,  51,  54,  97,\n",
       "        22,  25,  33,  40,  33, 102,  67,  45,  30,  55,  74,  91,  53,\n",
       "        78, 117, 119,  46, 116,  21,  76,  24,  42,  99,  99,  26, 114,\n",
       "        19,  46,   3, 119,  57,  28,  69,  52,  29,  12,  34,  73,  27,\n",
       "         1,  88, 100,  31, 110,  39,  72,  21,  64,  65, 114, 122,  96,\n",
       "       105,  51,  70,  65,  54,  50,   1,  91,  99,  96, 102,  77,  51,\n",
       "        87,  68, 102,  69,  39,  50,  37, 108,  37,  60,  13,  94,  96,\n",
       "        85,  88,  93, 103,  81,  38,  95,   5, 115,  49,  49,  11,  84,\n",
       "        36,  60,  83, 105,  97,  56, 103,  87,  55, 103,  55, 105,  89,\n",
       "        73,  97,  59,  51,  54,  39,  93,  94,  36, 116,  48,   3,   6,\n",
       "        88,  30, 101,  61,  24,  66, 100,  81,  21,   5,  97,  35,  44,\n",
       "        93,  61,  60,  31,  18,  16,  18,  58,  16,  37,  50,  16,  57,\n",
       "        38,  58, 100,  62,   2,  60,  54,  15,  53,  25,  20,  24,  90,\n",
       "        62,  65,  63,  59,  60,  17,  15,  27,  21, 100,  62,  67,  91,\n",
       "        49,  48,  88,  97,  95, 115, 122,  93,  70,  95,  82, 115,  91,\n",
       "        39, 106,  14, 117, 121, 102,  85,  49,  47,  52, 104, 107,  33,\n",
       "        99,  17], dtype=int32)"
      ]
     },
     "execution_count": 16,
     "metadata": {},
     "output_type": "execute_result"
    }
   ],
   "source": [
    "from scipy.cluster.hierarchy import fcluster\n",
    "max_d = 3\n",
    "clusters = fcluster(Z, max_d, criterion='distance')\n",
    "clusters"
   ]
  },
  {
   "cell_type": "code",
   "execution_count": 17,
   "metadata": {
    "scrolled": true
   },
   "outputs": [
    {
     "data": {
      "text/plain": [
       "array([2, 2, 2, 2, 2, 2, 2, 2, 2, 2, 2, 2, 2, 2, 2, 2, 2, 2, 2, 2, 2, 2,\n",
       "       2, 2, 2, 2, 2, 2, 2, 2, 2, 2, 2, 2, 2, 2, 2, 2, 2, 2, 2, 2, 2, 2,\n",
       "       2, 2, 2, 2, 2, 2, 2, 2, 2, 2, 2, 2, 2, 2, 2, 2, 2, 2, 2, 2, 2, 2,\n",
       "       2, 2, 2, 2, 2, 2, 2, 2, 2, 2, 2, 2, 2, 2, 2, 2, 2, 2, 2, 2, 2, 2,\n",
       "       2, 2, 2, 2, 2, 2, 2, 2, 2, 2, 2, 2, 2, 2, 2, 2, 2, 2, 2, 2, 2, 2,\n",
       "       2, 2, 2, 2, 2, 2, 2, 2, 2, 2, 2, 2, 2, 2, 2, 2, 2, 2, 2, 2, 2, 2,\n",
       "       2, 2, 2, 2, 2, 2, 2, 2, 2, 2, 2, 1, 2, 2, 2, 2, 2, 2, 2, 2, 2, 2,\n",
       "       2, 2, 2, 2, 2, 2, 2, 2, 1, 2, 2, 2, 2, 2, 2, 2, 2, 2, 2, 2, 2, 2,\n",
       "       2, 2, 2, 2, 2, 2, 2, 2, 2, 2, 2, 2, 2, 2, 2, 2, 2, 2, 2, 2, 2, 2,\n",
       "       2, 2, 2, 2, 2, 2, 2, 2, 2, 2, 2, 2, 2, 2, 2, 2, 2, 2, 2, 2, 2, 2,\n",
       "       2, 2, 2, 2, 2, 2, 2, 2, 2, 2, 2, 2, 2, 2, 2, 2, 2, 2, 2, 2, 2, 2,\n",
       "       2, 2, 2, 2, 2, 2, 2, 2, 2, 1, 2, 2, 2, 2, 2, 2, 2, 2, 2, 2, 2, 2,\n",
       "       2, 2, 2, 2, 2, 2, 2, 2, 2, 2, 2, 2, 2, 2, 2, 2, 2, 2, 2, 2, 2, 2,\n",
       "       2, 2, 2, 2, 2, 2, 2, 2, 2, 2, 2, 2, 2, 2, 2], dtype=int32)"
      ]
     },
     "execution_count": 17,
     "metadata": {},
     "output_type": "execute_result"
    }
   ],
   "source": [
    "from scipy.cluster.hierarchy import fcluster\n",
    "k = 2\n",
    "clusters = fcluster(Z, k, criterion='maxclust')\n",
    "clusters\n"
   ]
  },
  {
   "cell_type": "code",
   "execution_count": 19,
   "metadata": {
    "scrolled": true
   },
   "outputs": [
    {
     "name": "stdout",
     "output_type": "stream",
     "text": [
      "[[0.         1.1234596  1.34649998 ... 1.21140099 1.06255512 1.67194781]\n",
      " [1.1234596  0.         1.14932737 ... 1.47799633 1.39059244 1.78731604]\n",
      " [1.34649998 1.14932737 0.         ... 1.98926972 1.40483874 2.22810871]\n",
      " ...\n",
      " [1.21140099 1.47799633 1.98926972 ... 0.         1.35785618 1.18520447]\n",
      " [1.06255512 1.39059244 1.40483874 ... 1.35785618 0.         1.55401351]\n",
      " [1.67194781 1.78731604 2.22810871 ... 1.18520447 1.55401351 0.        ]]\n"
     ]
    }
   ],
   "source": [
    "dist_matrix = distance_matrix(feature_mtx,feature_mtx) \n",
    "print(dist_matrix)"
   ]
  },
  {
   "cell_type": "code",
   "execution_count": 20,
   "metadata": {
    "scrolled": true
   },
   "outputs": [
    {
     "data": {
      "text/plain": [
       "array([1, 1, 1, 1, 0, 1, 1, 1, 1, 1, 1, 0, 0, 1, 0, 1, 1, 1, 0, 0, 1, 0,\n",
       "       1, 1, 1, 0, 1, 1, 1, 1, 1, 1, 1, 0, 1, 1, 1, 1, 0, 1, 0, 1, 1, 1,\n",
       "       1, 1, 1, 1, 1, 1, 1, 0, 1, 1, 0, 1, 1, 0, 1, 1, 0, 0, 1, 0, 1, 0,\n",
       "       1, 1, 1, 0, 1, 1, 1, 1, 1, 1, 0, 1, 0, 1, 1, 0, 1, 1, 1, 0, 0, 0,\n",
       "       1, 0, 0, 1, 1, 1, 1, 1, 1, 0, 1, 0, 1, 0, 0, 1, 0, 0, 0, 1, 0, 1,\n",
       "       0, 1, 0, 0, 1, 0, 0, 0, 1, 1, 0, 1, 0, 1, 0, 1, 0, 0, 0, 1, 0, 0,\n",
       "       1, 1, 0, 0, 0, 0, 0, 0, 0, 1, 0, 0, 1, 0, 0, 1, 0, 1, 0, 0, 0, 1,\n",
       "       1, 1, 1, 0, 1, 0, 0, 0, 0, 1, 0, 1, 1, 1, 0, 1, 0, 1, 0, 0, 0, 0,\n",
       "       1, 0, 0, 0, 1, 1, 1, 1, 1, 0, 1, 0, 1, 1, 1, 1, 1, 1, 1, 0, 0, 1,\n",
       "       1, 1, 0, 1, 1, 0, 1, 0, 1, 1, 1, 1, 1, 0, 0, 0, 1, 1, 0, 1, 0, 1,\n",
       "       1, 1, 0, 0, 0, 0, 0, 0, 1, 0, 1, 1, 0, 1, 1, 0, 0, 0, 0, 0, 0, 0,\n",
       "       0, 0, 0, 0, 0, 0, 0, 0, 1, 0, 0, 0, 0, 0, 0, 0, 0, 1, 0, 0, 0, 1,\n",
       "       0, 0, 0, 0, 0, 0, 0, 0, 0, 0, 0, 1, 1, 0, 1, 0, 1, 0, 0, 1, 1, 1,\n",
       "       0, 1, 0, 0, 1, 0, 1, 1, 0, 0, 1, 1, 0, 1, 0], dtype=int64)"
      ]
     },
     "execution_count": 20,
     "metadata": {},
     "output_type": "execute_result"
    }
   ],
   "source": [
    "agglom = AgglomerativeClustering(n_clusters = 2, linkage = 'complete')\n",
    "agglom.fit(feature_mtx)\n",
    "agglom.labels_"
   ]
  },
  {
   "cell_type": "code",
   "execution_count": 21,
   "metadata": {
    "scrolled": true
   },
   "outputs": [
    {
     "data": {
      "text/html": [
       "<div>\n",
       "<style scoped>\n",
       "    .dataframe tbody tr th:only-of-type {\n",
       "        vertical-align: middle;\n",
       "    }\n",
       "\n",
       "    .dataframe tbody tr th {\n",
       "        vertical-align: top;\n",
       "    }\n",
       "\n",
       "    .dataframe thead th {\n",
       "        text-align: right;\n",
       "    }\n",
       "</style>\n",
       "<table border=\"1\" class=\"dataframe\">\n",
       "  <thead>\n",
       "    <tr style=\"text-align: right;\">\n",
       "      <th></th>\n",
       "      <th>V1</th>\n",
       "      <th>V2</th>\n",
       "      <th>V3</th>\n",
       "      <th>V4</th>\n",
       "      <th>V5</th>\n",
       "      <th>V6</th>\n",
       "      <th>V7</th>\n",
       "      <th>V8</th>\n",
       "      <th>V9</th>\n",
       "      <th>V10</th>\n",
       "      <th>...</th>\n",
       "      <th>V16</th>\n",
       "      <th>V17</th>\n",
       "      <th>V18</th>\n",
       "      <th>V19</th>\n",
       "      <th>V20</th>\n",
       "      <th>V21</th>\n",
       "      <th>V22</th>\n",
       "      <th>V23</th>\n",
       "      <th>V24</th>\n",
       "      <th>cluster_</th>\n",
       "    </tr>\n",
       "  </thead>\n",
       "  <tbody>\n",
       "    <tr>\n",
       "      <th>0</th>\n",
       "      <td>20</td>\n",
       "      <td>31</td>\n",
       "      <td>12</td>\n",
       "      <td>3</td>\n",
       "      <td>40</td>\n",
       "      <td>7</td>\n",
       "      <td>23</td>\n",
       "      <td>22</td>\n",
       "      <td>9</td>\n",
       "      <td>78</td>\n",
       "      <td>...</td>\n",
       "      <td>96</td>\n",
       "      <td>6</td>\n",
       "      <td>9</td>\n",
       "      <td>16</td>\n",
       "      <td>3</td>\n",
       "      <td>14</td>\n",
       "      <td>34</td>\n",
       "      <td>5</td>\n",
       "      <td>24</td>\n",
       "      <td>1</td>\n",
       "    </tr>\n",
       "    <tr>\n",
       "      <th>1</th>\n",
       "      <td>32</td>\n",
       "      <td>21</td>\n",
       "      <td>12</td>\n",
       "      <td>17</td>\n",
       "      <td>34</td>\n",
       "      <td>5</td>\n",
       "      <td>12</td>\n",
       "      <td>22</td>\n",
       "      <td>9</td>\n",
       "      <td>87</td>\n",
       "      <td>...</td>\n",
       "      <td>100</td>\n",
       "      <td>12</td>\n",
       "      <td>12</td>\n",
       "      <td>10</td>\n",
       "      <td>-3</td>\n",
       "      <td>13</td>\n",
       "      <td>21</td>\n",
       "      <td>1</td>\n",
       "      <td>12</td>\n",
       "      <td>1</td>\n",
       "    </tr>\n",
       "    <tr>\n",
       "      <th>2</th>\n",
       "      <td>27</td>\n",
       "      <td>21</td>\n",
       "      <td>12</td>\n",
       "      <td>15</td>\n",
       "      <td>20</td>\n",
       "      <td>3</td>\n",
       "      <td>7</td>\n",
       "      <td>12</td>\n",
       "      <td>3</td>\n",
       "      <td>75</td>\n",
       "      <td>...</td>\n",
       "      <td>95</td>\n",
       "      <td>1</td>\n",
       "      <td>5</td>\n",
       "      <td>6</td>\n",
       "      <td>-3</td>\n",
       "      <td>9</td>\n",
       "      <td>18</td>\n",
       "      <td>7</td>\n",
       "      <td>20</td>\n",
       "      <td>1</td>\n",
       "    </tr>\n",
       "    <tr>\n",
       "      <th>3</th>\n",
       "      <td>32</td>\n",
       "      <td>31</td>\n",
       "      <td>16</td>\n",
       "      <td>24</td>\n",
       "      <td>42</td>\n",
       "      <td>8</td>\n",
       "      <td>18</td>\n",
       "      <td>21</td>\n",
       "      <td>17</td>\n",
       "      <td>69</td>\n",
       "      <td>...</td>\n",
       "      <td>91</td>\n",
       "      <td>5</td>\n",
       "      <td>3</td>\n",
       "      <td>10</td>\n",
       "      <td>-2</td>\n",
       "      <td>10</td>\n",
       "      <td>22</td>\n",
       "      <td>6</td>\n",
       "      <td>19</td>\n",
       "      <td>1</td>\n",
       "    </tr>\n",
       "    <tr>\n",
       "      <th>4</th>\n",
       "      <td>29</td>\n",
       "      <td>19</td>\n",
       "      <td>12</td>\n",
       "      <td>7</td>\n",
       "      <td>37</td>\n",
       "      <td>8</td>\n",
       "      <td>16</td>\n",
       "      <td>25</td>\n",
       "      <td>18</td>\n",
       "      <td>85</td>\n",
       "      <td>...</td>\n",
       "      <td>104</td>\n",
       "      <td>15</td>\n",
       "      <td>14</td>\n",
       "      <td>14</td>\n",
       "      <td>29</td>\n",
       "      <td>15</td>\n",
       "      <td>19</td>\n",
       "      <td>4</td>\n",
       "      <td>20</td>\n",
       "      <td>0</td>\n",
       "    </tr>\n",
       "  </tbody>\n",
       "</table>\n",
       "<p>5 rows × 25 columns</p>\n",
       "</div>"
      ],
      "text/plain": [
       "   V1  V2  V3  V4  V5  V6  V7  V8  V9  V10  ...  V16  V17  V18  V19  V20  V21  \\\n",
       "0  20  31  12   3  40   7  23  22   9   78  ...   96    6    9   16    3   14   \n",
       "1  32  21  12  17  34   5  12  22   9   87  ...  100   12   12   10   -3   13   \n",
       "2  27  21  12  15  20   3   7  12   3   75  ...   95    1    5    6   -3    9   \n",
       "3  32  31  16  24  42   8  18  21  17   69  ...   91    5    3   10   -2   10   \n",
       "4  29  19  12   7  37   8  16  25  18   85  ...  104   15   14   14   29   15   \n",
       "\n",
       "   V22  V23  V24  cluster_  \n",
       "0   34    5   24         1  \n",
       "1   21    1   12         1  \n",
       "2   18    7   20         1  \n",
       "3   22    6   19         1  \n",
       "4   19    4   20         0  \n",
       "\n",
       "[5 rows x 25 columns]"
      ]
     },
     "execution_count": 21,
     "metadata": {},
     "output_type": "execute_result"
    }
   ],
   "source": [
    "data2['cluster_'] = agglom.labels_\n",
    "data2.head()"
   ]
  },
  {
   "cell_type": "code",
   "execution_count": 31,
   "metadata": {
    "scrolled": true
   },
   "outputs": [
    {
     "data": {
      "text/plain": [
       "125"
      ]
     },
     "execution_count": 31,
     "metadata": {},
     "output_type": "execute_result"
    }
   ],
   "source": [
    "sum(abs((data[\"Grp\"]-1)-(data2['cluster_'])))"
   ]
  },
  {
   "cell_type": "code",
   "execution_count": null,
   "metadata": {},
   "outputs": [],
   "source": [
    "#125 misclassifications"
   ]
  },
  {
   "cell_type": "code",
   "execution_count": null,
   "metadata": {},
   "outputs": [],
   "source": [
    "#3. (Clustering variables: 24 Psy. Tests) Use the raw data (tests 1-24) \n",
    "#and the combined 301 students from both schools to find clusters of 24 \n",
    "#tests. To cluster variables, use the 1-correlation dissimilarity\n",
    "#d(Vi; Vj ) = 1 - rho ij ;\n",
    "#where rho ij is the sample correlation between the pair of the ith and \n",
    "#jth variables (tests). Perform agglomerative hierarchical clustering with \n",
    "#average linkage."
   ]
  },
  {
   "cell_type": "code",
   "execution_count": 32,
   "metadata": {},
   "outputs": [],
   "source": [
    "agglom = AgglomerativeClustering(n_clusters = 2, linkage = 'average')"
   ]
  },
  {
   "cell_type": "code",
   "execution_count": 33,
   "metadata": {},
   "outputs": [
    {
     "data": {
      "text/plain": [
       "AgglomerativeClustering(linkage='average')"
      ]
     },
     "execution_count": 33,
     "metadata": {},
     "output_type": "execute_result"
    }
   ],
   "source": [
    "agglom.fit(data2)"
   ]
  },
  {
   "cell_type": "code",
   "execution_count": 36,
   "metadata": {
    "scrolled": true
   },
   "outputs": [
    {
     "name": "stdout",
     "output_type": "stream",
     "text": [
      "[[  0.          68.39590631  92.10863152 ...  80.28075735  92.93546148\n",
      "  100.        ]\n",
      " [ 68.39590631   0.         142.74452704 ...  68.09552114 141.04254677\n",
      "  134.63283403]\n",
      " [ 92.10863152 142.74452704   0.         ... 157.13370103  79.68061245\n",
      "  127.60094044]\n",
      " ...\n",
      " [ 80.28075735  68.09552114 157.13370103 ...   0.         142.84257069\n",
      "  108.26356728]\n",
      " [ 92.93546148 141.04254677  79.68061245 ... 142.84257069   0.\n",
      "   92.60129589]\n",
      " [100.         134.63283403 127.60094044 ... 108.26356728  92.60129589\n",
      "    0.        ]]\n"
     ]
    }
   ],
   "source": [
    "#3(a) Display your sequence of clustering assignments by dendrogram.\n",
    "dist_matrix = distance_matrix(data2,data2) \n",
    "print(dist_matrix)"
   ]
  },
  {
   "cell_type": "code",
   "execution_count": 37,
   "metadata": {
    "scrolled": false
   },
   "outputs": [
    {
     "name": "stderr",
     "output_type": "stream",
     "text": [
      "<ipython-input-37-90bcb3750f27>:1: ClusterWarning: scipy.cluster: The symmetric non-negative hollow observation matrix looks suspiciously like an uncondensed distance matrix\n",
      "  Z = hierarchy.linkage(dist_matrix, 'average')\n"
     ]
    },
    {
     "data": {
      "image/png": "[encoded data removed]",
      "text/plain": [
       "<Figure size 432x288 with 1 Axes>"
      ]
     },
     "metadata": {
      "needs_background": "light"
     },
     "output_type": "display_data"
    }
   ],
   "source": [
    "Z = hierarchy.linkage(dist_matrix, 'average')\n",
    "dendro = hierarchy.dendrogram(Z)"
   ]
  },
  {
   "cell_type": "code",
   "execution_count": null,
   "metadata": {},
   "outputs": [],
   "source": [
    "model = AgglomerativeClustering(n_clusters=5, affinity='euclidean', linkage='ward')\n",
    "model.fit(X)\n",
    "labels = model.labels_"
   ]
  },
  {
   "cell_type": "code",
   "execution_count": 41,
   "metadata": {},
   "outputs": [
    {
     "data": {
      "text/plain": [
       "AgglomerativeClustering(linkage='average', n_clusters=4)"
      ]
     },
     "execution_count": 41,
     "metadata": {},
     "output_type": "execute_result"
    }
   ],
   "source": [
    "#3(b) Cluster the variables into four clusters. Discuss the result in \n",
    "#connection to the (rotated) factor loadings obtained in problem 2\n",
    "agglom = AgglomerativeClustering(n_clusters = 4, linkage = 'average')\n",
    "agglom.fit(data2)"
   ]
  },
  {
   "cell_type": "code",
   "execution_count": 48,
   "metadata": {},
   "outputs": [],
   "source": [
    "list_of_tuples = list(zip(agglom.labels_,data2['cluster_'])) "
   ]
  },
  {
   "cell_type": "code",
   "execution_count": 50,
   "metadata": {
    "scrolled": true
   },
   "outputs": [],
   "source": [
    "compare = pd.DataFrame(list_of_tuples,columns = [\"Problem 2\", \"Problem  3.b\"])"
   ]
  },
  {
   "cell_type": "code",
   "execution_count": 51,
   "metadata": {},
   "outputs": [
    {
     "data": {
      "text/html": [
       "<div>\n",
       "<style scoped>\n",
       "    .dataframe tbody tr th:only-of-type {\n",
       "        vertical-align: middle;\n",
       "    }\n",
       "\n",
       "    .dataframe tbody tr th {\n",
       "        vertical-align: top;\n",
       "    }\n",
       "\n",
       "    .dataframe thead th {\n",
       "        text-align: right;\n",
       "    }\n",
       "</style>\n",
       "<table border=\"1\" class=\"dataframe\">\n",
       "  <thead>\n",
       "    <tr style=\"text-align: right;\">\n",
       "      <th></th>\n",
       "      <th>Problem 2</th>\n",
       "      <th>Problem  3.b</th>\n",
       "      <th>count</th>\n",
       "    </tr>\n",
       "  </thead>\n",
       "  <tbody>\n",
       "    <tr>\n",
       "      <th>0</th>\n",
       "      <td>0</td>\n",
       "      <td>0</td>\n",
       "      <td>5</td>\n",
       "    </tr>\n",
       "    <tr>\n",
       "      <th>1</th>\n",
       "      <td>1</td>\n",
       "      <td>1</td>\n",
       "      <td>3</td>\n",
       "    </tr>\n",
       "    <tr>\n",
       "      <th>2</th>\n",
       "      <td>2</td>\n",
       "      <td>0</td>\n",
       "      <td>141</td>\n",
       "    </tr>\n",
       "    <tr>\n",
       "      <th>3</th>\n",
       "      <td>2</td>\n",
       "      <td>1</td>\n",
       "      <td>146</td>\n",
       "    </tr>\n",
       "    <tr>\n",
       "      <th>4</th>\n",
       "      <td>3</td>\n",
       "      <td>0</td>\n",
       "      <td>2</td>\n",
       "    </tr>\n",
       "    <tr>\n",
       "      <th>5</th>\n",
       "      <td>3</td>\n",
       "      <td>1</td>\n",
       "      <td>4</td>\n",
       "    </tr>\n",
       "  </tbody>\n",
       "</table>\n",
       "</div>"
      ],
      "text/plain": [
       "   Problem 2  Problem  3.b  count\n",
       "0          0             0      5\n",
       "1          1             1      3\n",
       "2          2             0    141\n",
       "3          2             1    146\n",
       "4          3             0      2\n",
       "5          3             1      4"
      ]
     },
     "execution_count": 51,
     "metadata": {},
     "output_type": "execute_result"
    }
   ],
   "source": [
    "compare.groupby([\"Problem 2\", \"Problem  3.b\"]).size().reset_index().rename(columns={0:'count'})"
   ]
  }
 ],
 "metadata": {
  "kernelspec": {
   "display_name": "Python 3",
   "language": "python",
   "name": "python3"
  },
  "language_info": {
   "codemirror_mode": {
    "name": "ipython",
    "version": 3
   },
   "file_extension": ".py",
   "mimetype": "text/x-python",
   "name": "python",
   "nbconvert_exporter": "python",
   "pygments_lexer": "ipython3",
   "version": "3.8.5"
  }
 },
 "nbformat": 4,
 "nbformat_minor": 4
}
